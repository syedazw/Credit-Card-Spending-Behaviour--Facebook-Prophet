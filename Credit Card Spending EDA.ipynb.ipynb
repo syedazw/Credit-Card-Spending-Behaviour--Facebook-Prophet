{
 "cells": [
  {
   "cell_type": "code",
   "execution_count": null,
   "id": "46c3a38a-f661-4bcd-b7b6-42a79cba723c",
   "metadata": {},
   "outputs": [],
   "source": [
    "import pandas as pd\n",
    "import numpy as np\n",
    "import matplotlib.pyplot as plt\n",
    "import seaborn as sns\n",
    "import warnings\n",
    "warnings.filterwarnings('ignore')\n",
    "\n",
    "from sklearn.cluster import KMeans  \n",
    "from sklearn.preprocessing import StandardScaler\n",
    "from sklearn.cluster import DBSCAN\n",
    "\n",
    "from mlxtend.frequent_patterns import apriori, association_rules  \n",
    "from mlxtend.preprocessing import TransactionEncoder\n",
    "from mlxtend.frequent_patterns import fpgrowth  \n"
   ]
  },
  {
   "cell_type": "code",
   "execution_count": null,
   "id": "1f05eae7-83b0-46dc-bdd4-416e0965cfd8",
   "metadata": {},
   "outputs": [],
   "source": [
    "cre_data = pd.read_csv('credit_card_transactions.csv')\n",
    "cre_data"
   ]
  },
  {
   "cell_type": "code",
   "execution_count": null,
   "id": "a04311fd-322d-4dcf-86e8-9a13a48e54a7",
   "metadata": {},
   "outputs": [],
   "source": [
    "cre_data.info()"
   ]
  },
  {
   "cell_type": "markdown",
   "id": "2e2add99-fe64-4484-881e-c2376cfc37eb",
   "metadata": {},
   "source": [
    "## **EDA**"
   ]
  },
  {
   "cell_type": "markdown",
   "id": "a1277352-ce8f-46b0-a4ff-21af8269daa2",
   "metadata": {},
   "source": [
    "### **4.1 Basic EDA Questions**"
   ]
  },
  {
   "cell_type": "markdown",
   "id": "f938e66a-cbfe-4df4-a292-efcd307e0e53",
   "metadata": {},
   "source": [
    "#### **1. What are the top spending categories by transaction volume and amount?**"
   ]
  },
  {
   "cell_type": "code",
   "execution_count": null,
   "id": "542c8b2d-5bea-45eb-85cf-c01ce71cd812",
   "metadata": {},
   "outputs": [],
   "source": [
    "# top_amount = cre_data.groupby('category')['tran_amt'].sum().sort_values(ascending=False)\n",
    "\n",
    "# top_volume = cre_data.groupby('category')['trans_num'].count().sort_values(ascending=False)"
   ]
  },
  {
   "cell_type": "code",
   "execution_count": null,
   "id": "d8faec03-b779-4aab-bfaf-554ff3670ed8",
   "metadata": {},
   "outputs": [],
   "source": [
    "top_spend_category = cre_data.groupby('category').agg({'tran_amt': 'sum', 'trans_num': 'count'})\n",
    "top_spend_category = top_spend_category.sort_values(by= 'tran_amt', ascending=False)\n",
    "print(top_spend_category.head(5))"
   ]
  },
  {
   "cell_type": "markdown",
   "id": "52007768-c6aa-4efe-88a8-b812f40c3f9d",
   "metadata": {},
   "source": [
    "#### **2. How does spending vary over time (daily, weekly, monthly trends)?**"
   ]
  },
  {
   "cell_type": "code",
   "execution_count": null,
   "id": "27447e69-69d3-4045-a62e-046d5e27abab",
   "metadata": {},
   "outputs": [],
   "source": [
    "# transfer trans_date column to date format\n",
    "\n",
    "cre_data['trans_date'] = pd.to_datetime(cre_data['trans_date'], dayfirst=True)\n",
    "\n",
    "# extract time components and create columns for day, week, month\n",
    "cre_data['day'] = cre_data['trans_date'].dt.date\n",
    "cre_data['week'] = cre_data['trans_date'].dt.to_period('W')\n",
    "cre_data['month'] = cre_data['trans_date'].dt.to_period('M')\n",
    "\n",
    "\n",
    "daily_trend = cre_data.groupby('day')['tran_amt'].sum()\n",
    "# print(daily_trend)\n",
    "weekly_trend = cre_data.groupby('week')['tran_amt'].sum()\n",
    "# print('\\n',weekly_trend)\n",
    "monthly_trend = cre_data.groupby('month')['tran_amt'].sum()\n",
    "# print('\\n',monthly_trend)\n",
    "\n",
    "\n",
    "plt.figure(figsize=(12,5))\n",
    "plt.plot(daily_trend, label='Daily Spending', color='blue', alpha=0.5)  \n",
    "plt.plot(weekly_trend, label='Weekly Spending', color='green')  \n",
    "plt.plot(monthly_trend, label='Monthly Spending', color='red')  \n",
    "plt.xlabel('Time')  \n",
    "plt.ylabel('Total Spending')  \n",
    "plt.title('Spending Trends Over Time')  \n",
    "plt.legend()  \n",
    "plt.show()  "
   ]
  },
  {
   "cell_type": "markdown",
   "id": "8f70d0ad-5188-4ba8-af15-cd3545a36758",
   "metadata": {},
   "source": [
    "#### **3. What are the peak spending hours in a day?**"
   ]
  },
  {
   "cell_type": "code",
   "execution_count": null,
   "id": "ad4068f4-cf54-4b1f-b6e0-75528fcb5d0f",
   "metadata": {},
   "outputs": [],
   "source": [
    "# convert unix_time column to date time format\n",
    "\n",
    "cre_data['trans_time'] = pd.to_datetime(cre_data['unix_time'], unit='s')\n",
    "\n",
    "#extract hour from trans time\n",
    "cre_data['hour'] = cre_data['trans_time'].dt.hour\n",
    "\n",
    "peak_hrs = cre_data.groupby('hour')['tran_amt'].sum().sort_values(ascending=False)\n",
    "# print(peak_hrs.head(5))\n",
    "\n",
    "peak_hrs.plot(kind='bar', color='purple', figsize=(10,5))  \n",
    "plt.xlabel('Hour of Day')  \n",
    "plt.ylabel('Total Spending')  \n",
    "plt.title('Peak Hours Pattern by Hour of Day')  \n",
    "plt.show()"
   ]
  },
  {
   "cell_type": "markdown",
   "id": "b4016b64-da13-47bf-8e43-07e4dc8f0d97",
   "metadata": {},
   "source": [
    "#### **4. What is the most common payment method used?**"
   ]
  },
  {
   "cell_type": "markdown",
   "id": "2e959e50-0a7a-494f-9f34-cfc0659c941c",
   "metadata": {},
   "source": [
    "##### In this dataset we have no column for payment mode. However we assume, the dataset is for credit card that's why only payment mode is credit card"
   ]
  },
  {
   "cell_type": "markdown",
   "id": "6dd0a237-ca29-4c22-8728-4a69f1bbebd7",
   "metadata": {},
   "source": [
    "#### **5. Which merchants have the highest transactions?**"
   ]
  },
  {
   "cell_type": "code",
   "execution_count": null,
   "id": "bbc4dd4e-bad6-471c-9b5f-4d73c954d28d",
   "metadata": {},
   "outputs": [],
   "source": [
    "top_mer = cre_data.groupby('merchant')['tran_amt'].count().sort_values(ascending=False)\n",
    "# print(top_mer.head(5))\n",
    "\n",
    "top_mer.head(5).plot(kind='bar', y=['transaction_count'], figsize=(10,5))  \n",
    "plt.xlabel('Merchant')  \n",
    "plt.ylabel('Count')  \n",
    "plt.title('Top Merchants by Transactions')  \n",
    "plt.xticks(rotation=0)\n",
    "plt.show() "
   ]
  },
  {
   "cell_type": "markdown",
   "id": "adfc43a6-63ce-4b76-b82d-e656e7de4895",
   "metadata": {},
   "source": [
    "### **4.2 Intermediate EDA Questions**"
   ]
  },
  {
   "cell_type": "markdown",
   "id": "4f3d791c-108d-4b5e-92e9-bae1e65a3f64",
   "metadata": {},
   "source": [
    "#### **1. Are there seasonal trends in spending across different categories?**"
   ]
  },
  {
   "cell_type": "code",
   "execution_count": null,
   "id": "aa90c2c5-21af-4d7f-926c-ee338fdca5cb",
   "metadata": {},
   "outputs": [],
   "source": [
    "cre_data['season'] = cre_data['trans_date'].dt.month.map({12: 'Winter', 1: 'Winter', 2: 'Winter',  3: 'Spring', 4: 'Spring', 5: 'Spring',  \n",
    "    6: 'Summer', 7: 'Summer', 8: 'Summer',  9: 'Fall', 10: 'Fall', 11: 'Fall'})\n",
    "\n",
    "seasonal_trnd = cre_data.groupby(['season', 'category'])['tran_amt'].sum().unstack()\n",
    "\n",
    "\n",
    "seasonal_trnd.T.plot(kind='bar', figsize=(12,5), colormap='viridis')  \n",
    "plt.xlabel('Category')  \n",
    "plt.ylabel('Total Spending')  \n",
    "plt.title('Seasonal Spending Trends Across Categories')  \n",
    "plt.legend(title='Season')  \n",
    "plt.xticks(rotation=20)\n",
    "plt.show()"
   ]
  },
  {
   "cell_type": "code",
   "execution_count": null,
   "id": "f05e9cb3-8da1-4adc-97b4-76fdf3cf152f",
   "metadata": {},
   "outputs": [],
   "source": [
    "# monthly_trends = cre_data.groupby([ 'month', 'category'])['tran_amt'].sum().unstack()\n",
    "# monthly_trends.plot(figsize=(12,6), colormap='coolwarm')  \n",
    "# plt.xlabel('Month-Year')  \n",
    "# plt.ylabel('Total Spending')  \n",
    "# plt.title('Monthly Spending Trends Across Categories')  \n",
    "# plt.show()"
   ]
  },
  {
   "cell_type": "markdown",
   "id": "c96c0014-e47d-46fd-bec1-ec35bc6af2cc",
   "metadata": {},
   "source": [
    "#### **2. How do different customer segments (high spenders vs. low spenders) behave?**"
   ]
  },
  {
   "cell_type": "code",
   "execution_count": null,
   "id": "167eb3d9-a574-4a38-872b-f03d13bd8f3d",
   "metadata": {},
   "outputs": [],
   "source": [
    "#total spending per customer\n",
    "cus_spend = cre_data.groupby('cus_id')['tran_amt'].sum().reset_index()\n",
    "cus_spend\n",
    "\n",
    "#define segment for high or low spenders\n",
    "thres_high = cus_spend['tran_amt'].quantile(0.8)\n",
    "thres_low = cus_spend['tran_amt'].quantile(0.2)\n",
    "\n",
    "cre_data['spender_seg'] = cre_data['cus_id'].map(lambda x:'High' \n",
    "                                                if cus_spend[cus_spend['cus_id'] == x]['tran_amt'].values[0] >= thres_high\n",
    "                                                else 'Low'\n",
    "                                                if cus_spend[cus_spend['cus_id'] == x]['tran_amt'].values[0] <= thres_low\n",
    "                                                else 'Mid')\n",
    "\n",
    "segments = cre_data.groupby('spender_seg')['tran_amt'].sum().unstack()\n",
    "segments"
   ]
  },
  {
   "cell_type": "markdown",
   "id": "1963340c-720b-45ff-81f6-eb216d306d14",
   "metadata": {},
   "source": [
    "#### **3. What is the distribution of transaction amounts (e.g., histogram, boxplot analysis)?**"
   ]
  },
  {
   "cell_type": "code",
   "execution_count": null,
   "id": "cf80ba5b-63b1-44b3-af69-6f914512d470",
   "metadata": {},
   "outputs": [],
   "source": [
    "#histogram\n",
    "plt.figure(figsize=(10, 5))  \n",
    "sns.histplot(cre_data['tran_amt'], bins=50, kde=True, color='blue')  \n",
    "plt.xlabel('Transaction Amount')  \n",
    "plt.ylabel('Frequency')  \n",
    "plt.title('Histogram of Transaction Amounts')  \n",
    "plt.show()"
   ]
  },
  {
   "cell_type": "code",
   "execution_count": null,
   "id": "251e25ec-3f59-417a-9a1a-e6bae98281f4",
   "metadata": {},
   "outputs": [],
   "source": [
    "#boxplot\n",
    "plt.figure(figsize=(8, 5))  \n",
    "sns.boxplot(x=cre_data['tran_amt'], color='red')  \n",
    "plt.xlabel('Transaction Amount')  \n",
    "plt.title('Boxplot of Transaction Amounts')  \n",
    "plt.show()"
   ]
  },
  {
   "cell_type": "markdown",
   "id": "1e9e1982-f856-49e6-a9fd-f0dca2141bf4",
   "metadata": {},
   "source": [
    "#### **4. Are there any correlations between spending behavior and location?**"
   ]
  },
  {
   "cell_type": "code",
   "execution_count": null,
   "id": "5ff61a61-ad8d-4978-9e32-62335f00d822",
   "metadata": {},
   "outputs": [],
   "source": [
    "correlation = cre_data[['tran_amt', 'city_pop']].corr()\n",
    "print(correlation)\n",
    "\n",
    "plt.figure(figsize=(8, 5))  \n",
    "sns.scatterplot(data=cre_data, x='city_pop', y='tran_amt', alpha=0.5)  \n",
    "plt.xlabel(\"City Population\")  \n",
    "plt.ylabel(\"Transaction Amount\")  \n",
    "plt.title(\"Correlation Between City Population & Spending\")  \n",
    "plt.show()"
   ]
  },
  {
   "cell_type": "markdown",
   "id": "3e629f2e-160c-4913-9268-cbfcb84023b9",
   "metadata": {},
   "source": [
    "#### **5. How does spending behavior change before and after payday?**"
   ]
  },
  {
   "cell_type": "code",
   "execution_count": null,
   "id": "62c16b43-d6c0-4370-b742-364ea6133f6a",
   "metadata": {},
   "outputs": [],
   "source": [
    "#define payday\n",
    "cre_data['payday_period'] = cre_data['day'].apply(lambda x: \n",
    "                                                  'Before' if x in range(2,15) else\n",
    "                                                 'After' if x in range(15,31) else\n",
    "                                                 'Payday')\n",
    "\n",
    "payday_spending = cre_data.groupby('payday_period')['trans_amt'].mean().reset_index()\n",
    "\n",
    "plt.figure(figsize=(8, 5))  \n",
    "sns.barplot(data=payday_spending, x='payday_period', y='tran_amt', palette='coolwarm')  \n",
    "plt.xlabel(\"Period\")  \n",
    "plt.ylabel(\"Avg Transaction Amount\")  \n",
    "plt.title(\"Spending Before & After Payday\")  \n",
    "plt.show()"
   ]
  },
  {
   "cell_type": "markdown",
   "id": "7bd5b166-71a0-43f5-98ed-0158656eb680",
   "metadata": {},
   "source": [
    "### 4.3 Advanced EDA Questions"
   ]
  },
  {
   "cell_type": "markdown",
   "id": "55c3cb7d-20e2-4750-827a-9687c6a9b9a0",
   "metadata": {},
   "source": [
    "#### **1. Can we detect outliers in spending behavior using anomaly detection?**"
   ]
  },
  {
   "cell_type": "code",
   "execution_count": null,
   "id": "eb4a1ee0-1e37-464c-a77a-c322b6a3fb5a",
   "metadata": {},
   "outputs": [],
   "source": [
    "Q1 = df['tran_amt'].quantile(0.25)  \n",
    "Q3 = df['tran_amt'].quantile(0.75)  \n",
    "IQR = Q3 - Q1  \n",
    "\n",
    "lower_bound = Q1 - 1.5 * IQR  \n",
    "upper_bound = Q3 + 1.5 * IQR  \n",
    "\n",
    "cre_data['is_anomaly'] = cre_data['tran_amt'].apply(lambda x: 1 if x < lower_bound or x > upper_bound else 0)  \n",
    "\n",
    "outliers = cre_data[cre_data['is_anomaly'] == 1]  \n",
    "print(outliers[['cus_id', 'tran_amt']])"
   ]
  },
  {
   "cell_type": "markdown",
   "id": "29f04dd6-a6f7-4675-af3e-5e5bcbb54c37",
   "metadata": {},
   "source": [
    "#### **2. Are there clusters of customers based on spending habits? (Use K-Means, DBSCAN)**"
   ]
  },
  {
   "cell_type": "markdown",
   "id": "a249778d-e856-4681-8fdd-23bdf6471dd0",
   "metadata": {},
   "source": [
    "##### Customer Clustering Based on Spending Habits (K-Means, DBSCAN)"
   ]
  },
  {
   "cell_type": "markdown",
   "id": "2af7df26-0c73-4e67-91e8-6651cde263be",
   "metadata": {},
   "source": [
    "###### Choose relevant columns for analysing spending habits\n",
    "###### - Total Spending: tran_amt\n",
    "###### - Transaction Frequency: cus_id ke transaction count\n",
    "###### - Average Transaction Amount"
   ]
  },
  {
   "cell_type": "code",
   "execution_count": null,
   "id": "1ded4db1-3abf-4579-974f-561d219139db",
   "metadata": {},
   "outputs": [],
   "source": [
    "#data preparation\n",
    " \n",
    "\n",
    "# Total spending per customer  \n",
    "cus_spending = cre_data.groupby('cus_id')['tran_amt'].sum().reset_index()  \n",
    "cus_spending.rename(columns={'tran_amt': 'total_spent'}, inplace=True)  \n",
    "\n",
    "# Transaction count per customer  \n",
    "cus_spending['transaction_count'] = cre_data.groupby('cus_id')['tran_amt'].count().values  \n",
    "\n",
    "# Average spending per transaction  \n",
    "cus_spending['avg_spent'] = cus_spending['total_spent'] / cus_spending['transaction_count']  \n",
    "\n",
    "print(cus_spending.head())"
   ]
  },
  {
   "cell_type": "code",
   "execution_count": null,
   "id": "fe6c9ae6-26fa-4aeb-beba-74309110d147",
   "metadata": {},
   "outputs": [],
   "source": [
    "#K-Means  \n",
    "\n",
    "# Data Scaling (K-Means sensitive hota hai scale pe)  \n",
    "scaler = StandardScaler()  \n",
    "scaled_data = scaler.fit_transform(cus_spending[['total_spent', 'transaction_count', 'avg_spent']])  \n",
    "\n",
    "# K-Means Model with 3 Clusters  \n",
    "kmeans = KMeans(n_clusters=3, random_state=42)  \n",
    "cus_spending['cluster'] = kmeans.fit_predict(scaled_data)  \n",
    "\n",
    "print(cus_spending.head())\n",
    "\n",
    "plt.figure(figsize=(8, 5))  \n",
    "sns.scatterplot(data=cus_spending, x='total_spent', y='transaction_count', hue='cluster', palette='coolwarm')  \n",
    "plt.xlabel(\"Total Spending\")  \n",
    "plt.ylabel(\"Transaction Count\")  \n",
    "plt.title(\"Customer Clusters Based on Spending Behavior\")  \n",
    "plt.legend(title=\"Cluster\")  \n",
    "plt.show()"
   ]
  },
  {
   "cell_type": "code",
   "execution_count": null,
   "id": "2b04cccd-f88a-4c7d-92ee-67ab01ba3153",
   "metadata": {},
   "outputs": [],
   "source": [
    "#DBSCAN\n",
    "\n",
    "dbscan = DBSCAN(eps=0.5, min_samples=5)  \n",
    "cus_spending['dbscan_cluster'] = dbscan.fit_predict(scaled_data)  \n",
    "\n",
    "print(cus_spending.head())"
   ]
  },
  {
   "cell_type": "markdown",
   "id": "24270c2b-21aa-4753-9b87-965ce95207c8",
   "metadata": {},
   "source": [
    "#### **3. Can we use association rule mining (Apriori, FP-Growth) to find patterns in purchases?**"
   ]
  },
  {
   "cell_type": "markdown",
   "id": "6ebee98b-f140-4bdb-a492-56c8631f0340",
   "metadata": {},
   "source": [
    "##### Data preparation"
   ]
  },
  {
   "cell_type": "markdown",
   "id": "435b68d2-6b80-40d7-8b70-9c5677c9c0cb",
   "metadata": {},
   "source": [
    "###### Association rule mining (Apriori, FP-Growth) tab effective hota hai jab categorical data ho, jese:\n",
    "###### - Customer-wise purchased categories (cus_id aur category)\n",
    "###### - Frequent itemsets jo ek transaction me saath purchase hote hain"
   ]
  },
  {
   "cell_type": "code",
   "execution_count": null,
   "id": "9577ac0f-d6a2-4bef-97cd-fbd838228f74",
   "metadata": {},
   "outputs": [],
   "source": [
    "# ye aik transaction kai andr purchase ki gae categories ko list main convert krega\n",
    "\n",
    "data_tran = cre_data.groupby('trans_num')['category'].apply(list).reset_index()\n",
    "print(data_tran.head())"
   ]
  },
  {
   "cell_type": "code",
   "execution_count": null,
   "id": "ad732667-8e9f-4b5e-affe-baf8cd1c494f",
   "metadata": {},
   "outputs": [],
   "source": [
    "# Apriori Algorithm (Finding Frequent Patterns) \n",
    "\n",
    "# Transaction Data Encode Karna  \n",
    "te = TransactionEncoder()  \n",
    "te_ary = te.fit(data_tran['category']).transform(data_tran['category'])  \n",
    "df_encoded = pd.DataFrame(te_ary, columns=te.columns_)  \n",
    "\n",
    "# Frequent Itemsets with Apriori  \n",
    "freq_itemsets = apriori(df_encoded, min_support=0.05, use_colnames=True)  \n",
    "print(freq_itemsets.head())  \n",
    "\n",
    "# Association Rules Generate Karna  \n",
    "rules = association_rules(freq_itemsets, metric=\"lift\", min_threshold=1.0)  \n",
    "print(rules[['antecedents', 'consequents', 'support', 'confidence', 'lift']])"
   ]
  },
  {
   "cell_type": "code",
   "execution_count": null,
   "id": "e7f00134-585b-4e82-8874-7d068fa58278",
   "metadata": {},
   "outputs": [],
   "source": [
    "# FP-Growth Algorithm (Faster Alternative to Apriori)\n",
    "\n",
    "# Frequent Itemsets Using FP-Growth  \n",
    "freq_itemsets_fp = fpgrowth(df_encoded, min_support=0.05, use_colnames=True)  \n",
    "print(freq_itemsets_fp.head())  \n",
    "\n",
    "# Generate Association Rules  \n",
    "rules_fp = association_rules(freq_itemsets_fp, metric=\"lift\", min_threshold=1.0)  \n",
    "print(rules_fp[['antecedents', 'consequents', 'support', 'confidence', 'lift']])"
   ]
  },
  {
   "cell_type": "markdown",
   "id": "d0bb06e8-94e4-4f5f-bd33-aad239167f73",
   "metadata": {},
   "source": [
    "###### Interpretation of Results\n",
    "###### - Agar rule {\"Electronics\"} → {\"Accessories\"} hai, aur confidence 80% hai, iska matlab jo log Electronics le rahe hain, unka 80% chance hai Accessories lene ka bhi.\n",
    "###### - Lift value agar >1 hai, toh iska matlab strong association hai."
   ]
  },
  {
   "cell_type": "markdown",
   "id": "2f0c0438-1c61-4cd1-9338-36d1077cee64",
   "metadata": {},
   "source": [
    "#### **4. How does spending behavior correlate with economic factors (e.g., inflation, interest rates)?**"
   ]
  },
  {
   "cell_type": "markdown",
   "id": "9a241400-63db-4fdb-b837-8adc8c924c6a",
   "metadata": {},
   "source": [
    "##### We cannot analyze the correlation between spending behavior and economic factors (such as inflation and interest rates) because we do not have\n",
    "##### the necessary economic data. Correlation analysis requires historical data on economic indicators like inflation rates, interest rates, and GDP\n",
    "##### growth. Without this data, it is not possible to establish a statistical relationship between spending patterns and broader economic trends."
   ]
  },
  {
   "cell_type": "markdown",
   "id": "d536235a-33d2-46ca-b738-656a060dea28",
   "metadata": {},
   "source": [
    "#### **5. Can we use NLP on transaction descriptions to classify transactions more effectively?**"
   ]
  },
  {
   "cell_type": "markdown",
   "id": "f3f4a43d-02f2-411f-9369-efff5a982ca2",
   "metadata": {},
   "source": [
    "##### Yes, NLP can be used on transaction descriptions to classify transactions more effectively. If the dataset contains a transaction description column (e.g., merchant names, product details, or transaction notes), we can apply Natural Language Processing (NLP) techniques to categorize them.\n",
    "\n",
    "##### Approach:\n",
    "#####  - Preprocess text data (tokenization, stopword removal, stemming/lemmatization).\n",
    "#####  - Convert text into numerical format (TF-IDF, Word Embeddings).\n",
    "#####  - Train a classification model (Naïve Bayes, Random Forest, or Deep Learning).\n",
    "#####  - Use clustering (e.g., K-Means) for unsupervised classification if labels are unavailable."
   ]
  },
  {
   "cell_type": "markdown",
   "id": "e0643adb-8152-4cda-9e10-bb8e76b33df0",
   "metadata": {},
   "source": [
    "##### Why Use NLP?\n",
    "##### - Helps in automated categorization of transactions.\n",
    "##### - Improves fraud detection by identifying unusual transaction patterns.\n",
    "##### - Can identify spending patterns (e.g., grocery, travel, luxury)."
   ]
  },
  {
   "cell_type": "code",
   "execution_count": null,
   "id": "618bae2a-2f1a-4519-8e76-ba7738186e60",
   "metadata": {},
   "outputs": [],
   "source": []
  }
 ],
 "metadata": {
  "kernelspec": {
   "display_name": "Python 3 (ipykernel)",
   "language": "python",
   "name": "python3"
  },
  "language_info": {
   "codemirror_mode": {
    "name": "ipython",
    "version": 3
   },
   "file_extension": ".py",
   "mimetype": "text/x-python",
   "name": "python",
   "nbconvert_exporter": "python",
   "pygments_lexer": "ipython3",
   "version": "3.13.1"
  }
 },
 "nbformat": 4,
 "nbformat_minor": 5
}
